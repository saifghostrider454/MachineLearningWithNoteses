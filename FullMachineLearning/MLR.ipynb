{
 "cells": [
  {
   "cell_type": "code",
   "execution_count": 1,
   "id": "66729df9-e39a-4491-b060-1c01399db34b",
   "metadata": {},
   "outputs": [],
   "source": [
    "import numpy as np\n",
    "import pandas as pd\n",
    "import seaborn as sns"
   ]
  },
  {
   "cell_type": "code",
   "execution_count": 14,
   "id": "4bbcda9a-8e7f-4ac6-b34a-bb8efe05cc40",
   "metadata": {},
   "outputs": [],
   "source": [
    "class LinearRegression:\n",
    "\n",
    "    def __init__(self):\n",
    "\n",
    "        self.coef_ = None\n",
    "        self.intercept_ = None\n",
    "\n",
    "    def train(X_train, y_train):\n",
    "\n",
    "        X_train = np.insert(X_train, 0, 1, axis=1)\n",
    "\n",
    "        betas = np.linalg.inv(np.dot(np.transpose(X_train), X_train)).dot(np.transpose(X_train)).dot(y_train)\n",
    "\n",
    "        self.intercept_ = betas[0]\n",
    "        self.coef_ = betas[1:]\n",
    "\n",
    "    def predict(self, X_train):\n",
    "\n",
    "        pred = np.dot(X_train, self.slope) + self.intercept\n",
    "\n",
    "        return pred"
   ]
  },
  {
   "cell_type": "markdown",
   "id": "8ed95b4e-d4b1-483e-aba4-6ad57841279b",
   "metadata": {},
   "source": [
    "Notes:- https://1drv.ms/f/s!At-YyOW9R1sGjX33xBIUExwPjU5W"
   ]
  },
  {
   "cell_type": "code",
   "execution_count": null,
   "id": "f0b6fa74-0f3d-4986-b36a-d2f3dec493fc",
   "metadata": {},
   "outputs": [],
   "source": []
  }
 ],
 "metadata": {
  "kernelspec": {
   "display_name": "Python 3 (ipykernel)",
   "language": "python",
   "name": "python3"
  },
  "language_info": {
   "codemirror_mode": {
    "name": "ipython",
    "version": 3
   },
   "file_extension": ".py",
   "mimetype": "text/x-python",
   "name": "python",
   "nbconvert_exporter": "python",
   "pygments_lexer": "ipython3",
   "version": "3.11.5"
  }
 },
 "nbformat": 4,
 "nbformat_minor": 5
}
