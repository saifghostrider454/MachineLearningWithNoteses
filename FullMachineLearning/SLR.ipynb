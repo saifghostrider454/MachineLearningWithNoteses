{
 "cells": [
  {
   "cell_type": "code",
   "execution_count": 36,
   "id": "a34ba7e5-44e6-4368-85c1-35053407e1a3",
   "metadata": {},
   "outputs": [],
   "source": [
    "class SimpleLinearRegression:\n",
    "\n",
    "    def __init__(self):\n",
    "        \n",
    "        self.slope = None\n",
    "        self.intercept = None\n",
    "      \n",
    "    def fit(self, X_train, y_train):\n",
    "    \n",
    "        X_mean = X_train.mean()\n",
    "        y_mean = y_train.mean()\n",
    "    \n",
    "        numerator = 0\n",
    "        denominator = 0\n",
    "\n",
    "        for i in range(X_train.shape[0]):\n",
    "            \n",
    "            numerator += (y_train[i] - y_mean) * (X_train[i] - X_mean)\n",
    "            denominator += (X_train[i] - X_mean) ** 2\n",
    "        \n",
    "        self.slope = numerator / denominator\n",
    "    \n",
    "        self.intercept = y_mean - self.slope * X_mean\n",
    "\n",
    "\n",
    "    def predict(self, X_test):\n",
    "\n",
    "        return self.slope * X_test + self.intercept"
   ]
  },
  {
   "cell_type": "markdown",
   "id": "e894d3b1-86db-41b2-b9af-27d121872eab",
   "metadata": {},
   "source": [
    "Notes:- https://1drv.ms/f/s!At-YyOW9R1sGjXhSfJL5TTQP3cql"
   ]
  },
  {
   "cell_type": "code",
   "execution_count": null,
   "id": "d3c6e52e-df22-449a-8025-9538f98ae1a4",
   "metadata": {},
   "outputs": [],
   "source": []
  },
  {
   "cell_type": "code",
   "execution_count": 37,
   "id": "8c30384c-7de7-4b77-b5e3-31d0b2f48649",
   "metadata": {},
   "outputs": [],
   "source": [
    "import pandas as pd\n",
    "import numpy as np\n",
    "import seaborn as sns\n",
    "import matplotlib.pyplot as plt"
   ]
  },
  {
   "cell_type": "code",
   "execution_count": 38,
   "id": "70e166b9-470a-44f1-9e24-885fe14f055c",
   "metadata": {},
   "outputs": [
    {
     "data": {
      "text/html": [
       "<div>\n",
       "<style scoped>\n",
       "    .dataframe tbody tr th:only-of-type {\n",
       "        vertical-align: middle;\n",
       "    }\n",
       "\n",
       "    .dataframe tbody tr th {\n",
       "        vertical-align: top;\n",
       "    }\n",
       "\n",
       "    .dataframe thead th {\n",
       "        text-align: right;\n",
       "    }\n",
       "</style>\n",
       "<table border=\"1\" class=\"dataframe\">\n",
       "  <thead>\n",
       "    <tr style=\"text-align: right;\">\n",
       "      <th></th>\n",
       "      <th>cgpa</th>\n",
       "      <th>package</th>\n",
       "    </tr>\n",
       "  </thead>\n",
       "  <tbody>\n",
       "    <tr>\n",
       "      <th>40</th>\n",
       "      <td>9.38</td>\n",
       "      <td>4.02</td>\n",
       "    </tr>\n",
       "    <tr>\n",
       "      <th>4</th>\n",
       "      <td>6.94</td>\n",
       "      <td>3.57</td>\n",
       "    </tr>\n",
       "    <tr>\n",
       "      <th>127</th>\n",
       "      <td>6.78</td>\n",
       "      <td>3.11</td>\n",
       "    </tr>\n",
       "    <tr>\n",
       "      <th>102</th>\n",
       "      <td>5.13</td>\n",
       "      <td>1.37</td>\n",
       "    </tr>\n",
       "    <tr>\n",
       "      <th>104</th>\n",
       "      <td>7.62</td>\n",
       "      <td>3.74</td>\n",
       "    </tr>\n",
       "  </tbody>\n",
       "</table>\n",
       "</div>"
      ],
      "text/plain": [
       "     cgpa  package\n",
       "40   9.38     4.02\n",
       "4    6.94     3.57\n",
       "127  6.78     3.11\n",
       "102  5.13     1.37\n",
       "104  7.62     3.74"
      ]
     },
     "execution_count": 38,
     "metadata": {},
     "output_type": "execute_result"
    }
   ],
   "source": [
    "df = pd.read_csv('cgpa.csv').drop('Unnamed: 0', axis=1)\n",
    "df.sample(5)"
   ]
  },
  {
   "cell_type": "code",
   "execution_count": 39,
   "id": "3e93664c-67ef-4513-81ea-f4809ab4d145",
   "metadata": {},
   "outputs": [
    {
     "data": {
      "text/plain": [
       "<Axes: xlabel='cgpa', ylabel='package'>"
      ]
     },
     "execution_count": 39,
     "metadata": {},
     "output_type": "execute_result"
    },
    {
     "data": {
      "image/png": "[encoded data removed]",
      "text/plain": [
       "<Figure size 500x300 with 1 Axes>"
      ]
     },
     "metadata": {},
     "output_type": "display_data"
    }
   ],
   "source": [
    "plt.figure(figsize=(5, 3))\n",
    "sns.scatterplot(x='cgpa', y='package', data=df, color='red', markers='+')"
   ]
  },
  {
   "cell_type": "code",
   "execution_count": 40,
   "id": "390f155d-b68a-48fa-9a47-b69acc5f241e",
   "metadata": {},
   "outputs": [],
   "source": [
    "model = SimpleLinearRegression()"
   ]
  },
  {
   "cell_type": "code",
   "execution_count": 41,
   "id": "314d4b51-343e-49a5-b6ab-0ae6705fb8d1",
   "metadata": {},
   "outputs": [],
   "source": [
    "model.fit(df['cgpa'].values, df['package'].values)"
   ]
  },
  {
   "cell_type": "code",
   "execution_count": 42,
   "id": "c768b7a3-c698-4467-adf9-d03891d71147",
   "metadata": {},
   "outputs": [
    {
     "data": {
      "text/plain": [
       "-0.9856779462557332"
      ]
     },
     "execution_count": 42,
     "metadata": {},
     "output_type": "execute_result"
    }
   ],
   "source": [
    "model.intercept"
   ]
  },
  {
   "cell_type": "code",
   "execution_count": 43,
   "id": "8286c67b-59be-40a4-a0b8-2266c57916b0",
   "metadata": {},
   "outputs": [
    {
     "data": {
      "text/plain": [
       "2.431869822506787"
      ]
     },
     "execution_count": 43,
     "metadata": {},
     "output_type": "execute_result"
    }
   ],
   "source": [
    "model.predict(6)"
   ]
  },
  {
   "cell_type": "code",
   "execution_count": 44,
   "id": "ad568331-470c-4543-8f9d-43a0cdff1993",
   "metadata": {},
   "outputs": [
    {
     "data": {
      "text/plain": [
       "[<matplotlib.lines.Line2D at 0x2141e4c9090>]"
      ]
     },
     "execution_count": 44,
     "metadata": {},
     "output_type": "execute_result"
    },
    {
     "data": {
      "image/png": "[encoded data removed]",
      "text/plain": [
       "<Figure size 500x300 with 1 Axes>"
      ]
     },
     "metadata": {},
     "output_type": "display_data"
    }
   ],
   "source": [
    "plt.figure(figsize=(5, 3))\n",
    "sns.scatterplot(x='cgpa', y='package', data=df, color='red')\n",
    "plt.plot(df['cgpa'].values, model.predict(df['cgpa'].values), color='blue')"
   ]
  },
  {
   "cell_type": "code",
   "execution_count": null,
   "id": "2670fc22-b663-4d5e-ac38-070cb9387943",
   "metadata": {},
   "outputs": [],
   "source": []
  }
 ],
 "metadata": {
  "kernelspec": {
   "display_name": "Python 3 (ipykernel)",
   "language": "python",
   "name": "python3"
  },
  "language_info": {
   "codemirror_mode": {
    "name": "ipython",
    "version": 3
   },
   "file_extension": ".py",
   "mimetype": "text/x-python",
   "name": "python",
   "nbconvert_exporter": "python",
   "pygments_lexer": "ipython3",
   "version": "3.11.5"
  }
 },
 "nbformat": 4,
 "nbformat_minor": 5
}
